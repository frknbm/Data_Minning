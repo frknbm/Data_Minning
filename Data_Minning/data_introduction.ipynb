{
 "cells": [
  {
   "cell_type": "code",
   "execution_count": 104,
   "id": "277281a7",
   "metadata": {},
   "outputs": [],
   "source": [
    "import numpy as np\n",
    "import pandas as pd\n",
    "import matplotlib.pyplot as plt\n",
    "import numpy as np\n",
    "import pandas as pd\n",
    "import matplotlib.pyplot as plt"
   ]
  },
  {
   "cell_type": "code",
   "execution_count": 106,
   "id": "bba25052",
   "metadata": {},
   "outputs": [
    {
     "name": "stdout",
     "output_type": "stream",
     "text": [
      "    Cinsiyet Ebeveyn Egitim Seviyesi Okul Yemekhanesi Ozel Ders  Matematik  \\\n",
      "0      Kadin           Lisans Mezunu              Yok       Yok         72   \n",
      "1      Kadin         Onlisans Mezunu              Yok       Var         69   \n",
      "2      Kadin    Yuksek Lisans Mezunu              Yok       Yok         90   \n",
      "3      Erkek         Onlisans Mezunu              Var       Yok         47   \n",
      "4      Erkek         Onlisans Mezunu              Yok       Yok         76   \n",
      "..       ...                     ...              ...       ...        ...   \n",
      "995    Kadin    Yuksek Lisans Mezunu              Yok       Var         88   \n",
      "996    Erkek             Lise Mezunu              Var       Yok         62   \n",
      "997    Kadin             Lise Mezunu              Var       Var         59   \n",
      "998    Kadin         Onlisans Mezunu              Yok       Var         68   \n",
      "999    Kadin         Onlisans Mezunu              Var       Yok         77   \n",
      "\n",
      "     Okuma  Yazma  \n",
      "0       72     74  \n",
      "1       90     88  \n",
      "2       95     93  \n",
      "3       57     44  \n",
      "4       78     75  \n",
      "..     ...    ...  \n",
      "995     99     95  \n",
      "996     55     55  \n",
      "997     71     65  \n",
      "998     78     77  \n",
      "999     86     86  \n",
      "\n",
      "[1000 rows x 7 columns]\n"
     ]
    }
   ],
   "source": [
    "veriseti= pd.read_csv('data/Ogrenci_Performans.csv')\n",
    "print(veriseti)"
   ]
  },
  {
   "cell_type": "code",
   "execution_count": 107,
   "id": "f05ba141",
   "metadata": {},
   "outputs": [
    {
     "data": {
      "text/html": [
       "<div>\n",
       "<style scoped>\n",
       "    .dataframe tbody tr th:only-of-type {\n",
       "        vertical-align: middle;\n",
       "    }\n",
       "\n",
       "    .dataframe tbody tr th {\n",
       "        vertical-align: top;\n",
       "    }\n",
       "\n",
       "    .dataframe thead th {\n",
       "        text-align: right;\n",
       "    }\n",
       "</style>\n",
       "<table border=\"1\" class=\"dataframe\">\n",
       "  <thead>\n",
       "    <tr style=\"text-align: right;\">\n",
       "      <th></th>\n",
       "      <th>Cinsiyet</th>\n",
       "      <th>Ebeveyn Egitim Seviyesi</th>\n",
       "      <th>Okul Yemekhanesi</th>\n",
       "      <th>Ozel Ders</th>\n",
       "      <th>Matematik</th>\n",
       "      <th>Okuma</th>\n",
       "      <th>Yazma</th>\n",
       "    </tr>\n",
       "  </thead>\n",
       "  <tbody>\n",
       "    <tr>\n",
       "      <th>0</th>\n",
       "      <td>Kadin</td>\n",
       "      <td>Lisans Mezunu</td>\n",
       "      <td>Yok</td>\n",
       "      <td>Yok</td>\n",
       "      <td>72</td>\n",
       "      <td>72</td>\n",
       "      <td>74</td>\n",
       "    </tr>\n",
       "    <tr>\n",
       "      <th>1</th>\n",
       "      <td>Kadin</td>\n",
       "      <td>Onlisans Mezunu</td>\n",
       "      <td>Yok</td>\n",
       "      <td>Var</td>\n",
       "      <td>69</td>\n",
       "      <td>90</td>\n",
       "      <td>88</td>\n",
       "    </tr>\n",
       "    <tr>\n",
       "      <th>2</th>\n",
       "      <td>Kadin</td>\n",
       "      <td>Yuksek Lisans Mezunu</td>\n",
       "      <td>Yok</td>\n",
       "      <td>Yok</td>\n",
       "      <td>90</td>\n",
       "      <td>95</td>\n",
       "      <td>93</td>\n",
       "    </tr>\n",
       "    <tr>\n",
       "      <th>3</th>\n",
       "      <td>Erkek</td>\n",
       "      <td>Onlisans Mezunu</td>\n",
       "      <td>Var</td>\n",
       "      <td>Yok</td>\n",
       "      <td>47</td>\n",
       "      <td>57</td>\n",
       "      <td>44</td>\n",
       "    </tr>\n",
       "    <tr>\n",
       "      <th>4</th>\n",
       "      <td>Erkek</td>\n",
       "      <td>Onlisans Mezunu</td>\n",
       "      <td>Yok</td>\n",
       "      <td>Yok</td>\n",
       "      <td>76</td>\n",
       "      <td>78</td>\n",
       "      <td>75</td>\n",
       "    </tr>\n",
       "  </tbody>\n",
       "</table>\n",
       "</div>"
      ],
      "text/plain": [
       "  Cinsiyet Ebeveyn Egitim Seviyesi Okul Yemekhanesi Ozel Ders  Matematik  \\\n",
       "0    Kadin           Lisans Mezunu              Yok       Yok         72   \n",
       "1    Kadin         Onlisans Mezunu              Yok       Var         69   \n",
       "2    Kadin    Yuksek Lisans Mezunu              Yok       Yok         90   \n",
       "3    Erkek         Onlisans Mezunu              Var       Yok         47   \n",
       "4    Erkek         Onlisans Mezunu              Yok       Yok         76   \n",
       "\n",
       "   Okuma  Yazma  \n",
       "0     72     74  \n",
       "1     90     88  \n",
       "2     95     93  \n",
       "3     57     44  \n",
       "4     78     75  "
      ]
     },
     "execution_count": 107,
     "metadata": {},
     "output_type": "execute_result"
    }
   ],
   "source": [
    "veriseti.head()"
   ]
  },
  {
   "cell_type": "code",
   "execution_count": 108,
   "id": "bb0df4d2",
   "metadata": {},
   "outputs": [
    {
     "data": {
      "text/plain": [
       "Cinsiyet                   0\n",
       "Ebeveyn Egitim Seviyesi    0\n",
       "Okul Yemekhanesi           0\n",
       "Ozel Ders                  0\n",
       "Matematik                  0\n",
       "Okuma                      0\n",
       "Yazma                      0\n",
       "dtype: int64"
      ]
     },
     "execution_count": 108,
     "metadata": {},
     "output_type": "execute_result"
    }
   ],
   "source": [
    "veriseti.isnull().sum()"
   ]
  },
  {
   "cell_type": "code",
   "execution_count": 64,
   "id": "086741c2",
   "metadata": {},
   "outputs": [
    {
     "data": {
      "text/plain": [
       "Index(['Cinsiyet', 'Ebeveyn Egitim Seviyesi', 'Okul Yemekhanesi', 'Ozel Ders',\n",
       "       'Matematik', 'Okuma', 'Yazma'],\n",
       "      dtype='object')"
      ]
     },
     "execution_count": 64,
     "metadata": {},
     "output_type": "execute_result"
    }
   ],
   "source": [
    "veriseti.columns"
   ]
  },
  {
   "cell_type": "code",
   "execution_count": 109,
   "id": "6c105ac0",
   "metadata": {},
   "outputs": [
    {
     "data": {
      "text/plain": [
       "<bound method DataFrame.info of     Cinsiyet Ebeveyn Egitim Seviyesi Okul Yemekhanesi Ozel Ders  Matematik  \\\n",
       "0      Kadin           Lisans Mezunu              Yok       Yok         72   \n",
       "1      Kadin         Onlisans Mezunu              Yok       Var         69   \n",
       "2      Kadin    Yuksek Lisans Mezunu              Yok       Yok         90   \n",
       "3      Erkek         Onlisans Mezunu              Var       Yok         47   \n",
       "4      Erkek         Onlisans Mezunu              Yok       Yok         76   \n",
       "..       ...                     ...              ...       ...        ...   \n",
       "995    Kadin    Yuksek Lisans Mezunu              Yok       Var         88   \n",
       "996    Erkek             Lise Mezunu              Var       Yok         62   \n",
       "997    Kadin             Lise Mezunu              Var       Var         59   \n",
       "998    Kadin         Onlisans Mezunu              Yok       Var         68   \n",
       "999    Kadin         Onlisans Mezunu              Var       Yok         77   \n",
       "\n",
       "     Okuma  Yazma  \n",
       "0       72     74  \n",
       "1       90     88  \n",
       "2       95     93  \n",
       "3       57     44  \n",
       "4       78     75  \n",
       "..     ...    ...  \n",
       "995     99     95  \n",
       "996     55     55  \n",
       "997     71     65  \n",
       "998     78     77  \n",
       "999     86     86  \n",
       "\n",
       "[1000 rows x 7 columns]>"
      ]
     },
     "execution_count": 109,
     "metadata": {},
     "output_type": "execute_result"
    }
   ],
   "source": [
    "veriseti.info"
   ]
  },
  {
   "cell_type": "code",
   "execution_count": null,
   "id": "d18c4601",
   "metadata": {},
   "outputs": [],
   "source": []
  }
 ],
 "metadata": {
  "kernelspec": {
   "display_name": "Python 3 (ipykernel)",
   "language": "python",
   "name": "python3"
  },
  "language_info": {
   "codemirror_mode": {
    "name": "ipython",
    "version": 3
   },
   "file_extension": ".py",
   "mimetype": "text/x-python",
   "name": "python",
   "nbconvert_exporter": "python",
   "pygments_lexer": "ipython3",
   "version": "3.9.12"
  }
 },
 "nbformat": 4,
 "nbformat_minor": 5
}
